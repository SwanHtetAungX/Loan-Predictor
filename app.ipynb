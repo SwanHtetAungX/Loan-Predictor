{
 "cells": [
  {
   "cell_type": "code",
   "execution_count": 1,
   "id": "9f1d0fa9-b4f9-43ee-9575-1054b7c9cfbe",
   "metadata": {
    "tags": []
   },
   "outputs": [],
   "source": [
    "# Import the libraies\n",
    "import numpy as np\n",
    "from flask import Flask, request, render_template\n",
    "import joblib\n",
    "import pandas as pd\n"
   ]
  },
  {
   "cell_type": "code",
   "execution_count": 2,
   "id": "89138f09-b65c-4c9f-ae44-5f091b49d581",
   "metadata": {
    "tags": []
   },
   "outputs": [],
   "source": [
    "app = Flask(__name__)\n",
    "model = joblib.load('models/model.pkl')"
   ]
  },
  {
   "cell_type": "code",
   "execution_count": 3,
   "id": "00b75019-fc5a-403c-b63a-8f73470b1345",
   "metadata": {
    "tags": []
   },
   "outputs": [],
   "source": [
    "# Define the '/' root route to display the content from index.html\n",
    "@app.route('/')\n",
    "def home():\n",
    "    return render_template('index.html')\n"
   ]
  },
  {
   "cell_type": "code",
   "execution_count": 4,
   "id": "227fd78f-dbdc-4e8f-ae0a-b24c7f08a2b6",
   "metadata": {
    "tags": []
   },
   "outputs": [],
   "source": [
    "# Define the '/predict' route to:\n",
    "# - Get form data and convert them to float values\n",
    "# - Convert form data to numpy array\n",
    "# - Pass form data to model for prediction\n",
    "from flask import render_template, request\n",
    "import numpy as np\n",
    "\n",
    "@app.route('/predict', methods=['POST'])\n",
    "def predict():\n",
    "    # Get form data and convert them to the correct data types\n",
    "    no_of_dependents = int(request.form['no_of_dependents'])\n",
    "    income_annum = float(request.form['income_annum'])\n",
    "    loan_amount = float(request.form['loan_amount'])\n",
    "    loan_term = int(request.form['loan_term'])\n",
    "    cibil_score = int(request.form['cibil_score'])\n",
    "    residential_assets_value = float(request.form['residential_assets_value'])\n",
    "    commercial_assets_value = float(request.form['commercial_assets_value'])\n",
    "    luxury_assets_value = float(request.form['luxury_assets_value'])\n",
    "    bank_asset_value = float(request.form['bank_asset_value'])\n",
    "    self_employed = 1 if request.form['self_employed'] == 'yes' else 0\n",
    "    education = 1 if request.form['education'] == 'graduate' else 0\n",
    "\n",
    "    # Convert cibil_score to a 1-dimensional array\n",
    "    cibil_score_array = np.array([cibil_score])\n",
    "\n",
    "    # Binning for cibil_score\n",
    "    bins = [0, 600, 700, 800, 900]\n",
    "    labels = ['Poor', 'Fair', 'Good', 'Excellent']\n",
    "    cibil_score_category = pd.cut(cibil_score_array, bins=bins, labels=labels)\n",
    "\n",
    "    # Calculate additional features based on your data preprocessing\n",
    "    total_asset = residential_assets_value + commercial_assets_value + luxury_assets_value + bank_asset_value\n",
    "    loan_to_income_ratio = loan_amount / income_annum\n",
    "\n",
    "    # Create a numpy array with the input features\n",
    "    features = np.array([\n",
    "        no_of_dependents,\n",
    "        income_annum,\n",
    "        loan_amount,\n",
    "        loan_term,\n",
    "        cibil_score,\n",
    "        residential_assets_value,\n",
    "        commercial_assets_value,\n",
    "        luxury_assets_value,\n",
    "        bank_asset_value,\n",
    "        total_asset,  # Add the total_asset feature\n",
    "        loan_to_income_ratio,  # Add the loan_to_income_ratio feature\n",
    "        self_employed,\n",
    "        education,\n",
    "        # Add the cibil_score_category features\n",
    "        cibil_score_category[0] == 'Poor',\n",
    "        cibil_score_category[0] == 'Fair',\n",
    "        cibil_score_category[0] == 'Good',\n",
    "        cibil_score_category[0] == 'Excellent'\n",
    "    ]).reshape(1, -1)\n",
    "\n",
    "    # Make prediction using the trained model\n",
    "    prediction = model.predict(features)\n",
    "\n",
    "   # Display user-friendly message based on the prediction\n",
    "    if prediction[0]:\n",
    "        message = \"Your Loan is most likely to be approved.🏆\"\n",
    "    else:\n",
    "        message = \"Your Loan is most likely to be rejected.😓\"\n",
    "        image_url = None\n",
    "\n",
    "    # Pass the message to the HTML template\n",
    "    return render_template('index.html', loan_status=message)\n"
   ]
  },
  {
   "cell_type": "code",
   "execution_count": null,
   "id": "931d6e2c-c8f3-40df-821d-b07b9e9de9ca",
   "metadata": {
    "tags": []
   },
   "outputs": [
    {
     "name": "stdout",
     "output_type": "stream",
     "text": [
      " * Serving Flask app '__main__'\n",
      " * Debug mode: off\n"
     ]
    },
    {
     "name": "stderr",
     "output_type": "stream",
     "text": [
      "WARNING: This is a development server. Do not use it in a production deployment. Use a production WSGI server instead.\n",
      " * Running on http://127.0.0.1:5000\n",
      "Press CTRL+C to quit\n",
      "127.0.0.1 - - [07/Dec/2023 12:40:16] \"GET / HTTP/1.1\" 200 -\n",
      "127.0.0.1 - - [07/Dec/2023 12:40:29] \"GET / HTTP/1.1\" 200 -\n",
      "/Users/swanhtetaung/anaconda3/lib/python3.11/site-packages/sklearn/base.py:464: UserWarning: X does not have valid feature names, but RandomForestClassifier was fitted with feature names\n",
      "  warnings.warn(\n",
      "127.0.0.1 - - [07/Dec/2023 12:40:58] \"POST /predict HTTP/1.1\" 200 -\n"
     ]
    }
   ],
   "source": [
    "if __name__ == '__main__':\n",
    "    app.run(debug=False)\n"
   ]
  },
  {
   "cell_type": "code",
   "execution_count": null,
   "id": "afde31dc-6287-463c-b341-9d169d4f9955",
   "metadata": {},
   "outputs": [],
   "source": []
  }
 ],
 "metadata": {
  "kernelspec": {
   "display_name": "Python 3 (ipykernel)",
   "language": "python",
   "name": "python3"
  },
  "language_info": {
   "codemirror_mode": {
    "name": "ipython",
    "version": 3
   },
   "file_extension": ".py",
   "mimetype": "text/x-python",
   "name": "python",
   "nbconvert_exporter": "python",
   "pygments_lexer": "ipython3",
   "version": "3.11.5"
  }
 },
 "nbformat": 4,
 "nbformat_minor": 5
}
